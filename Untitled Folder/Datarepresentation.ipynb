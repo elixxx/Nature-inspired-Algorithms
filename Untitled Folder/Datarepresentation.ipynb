{
 "cells": [
  {
   "cell_type": "code",
   "execution_count": 1,
   "metadata": {},
   "outputs": [],
   "source": [
    "import pandas as pd\n",
    "import numpy as np\n",
    "import scipy as sp\n",
    "import scipy.sparse"
   ]
  },
  {
   "cell_type": "code",
   "execution_count": 2,
   "metadata": {},
   "outputs": [
    {
     "name": "stdout",
     "output_type": "stream",
     "text": [
      "(101, 101)\n"
     ]
    },
    {
     "data": {
      "text/plain": [
       "array([[  0.,  58., 126., ..., 196., 406.,  36.],\n",
       "       [ 58.,   0., 184., ..., 254., 464.,  42.],\n",
       "       [126., 184.,   0., ...,  70., 280., 142.],\n",
       "       ...,\n",
       "       [196., 254.,  70., ...,   0., 210., 212.],\n",
       "       [406., 464., 280., ..., 210.,   0., 422.],\n",
       "       [ 36.,  42., 142., ..., 212., 422.,   0.]])"
      ]
     },
     "execution_count": 2,
     "metadata": {},
     "output_type": "execute_result"
    }
   ],
   "source": [
    "distance = np.genfromtxt(open(\"distance.txt\"), delimiter=\" \")\n",
    "print(distance.shape)\n",
    "distance\n"
   ]
  },
  {
   "cell_type": "code",
   "execution_count": 3,
   "metadata": {},
   "outputs": [
    {
     "name": "stdout",
     "output_type": "stream",
     "text": [
      "(100,)\n",
      "min 10.0\n",
      "max 29.0\n",
      "sum 1930.0\n"
     ]
    }
   ],
   "source": [
    "demand = np.genfromtxt(open(\"demand.txt\"), delimiter=\" \")\n",
    "print(demand.shape)\n",
    "print(\"min\", demand.min())\n",
    "print(\"max\", demand.max())\n",
    "print(\"sum\", demand.sum())"
   ]
  },
  {
   "cell_type": "code",
   "execution_count": 4,
   "metadata": {},
   "outputs": [
    {
     "name": "stdout",
     "output_type": "stream",
     "text": [
      "(33,)\n",
      "min 9.0\n",
      "max 18.0\n",
      "sum 367.0\n"
     ]
    }
   ],
   "source": [
    "transportation_cost = np.genfromtxt(open(\"transportation_cost.txt\"), delimiter=\" \")\n",
    "print(transportation_cost.shape)\n",
    "transportation_cost\n",
    "print(\"min\", transportation_cost.min())\n",
    "print(\"max\", transportation_cost.max())\n",
    "print(\"sum\", transportation_cost.sum())"
   ]
  },
  {
   "cell_type": "code",
   "execution_count": 5,
   "metadata": {},
   "outputs": [
    {
     "name": "stdout",
     "output_type": "stream",
     "text": [
      "(33,)\n",
      "min 100.0\n",
      "max 1000.0\n",
      "sum 8100.0\n"
     ]
    }
   ],
   "source": [
    "\n",
    "capacity = np.genfromtxt(open(\"capacity.txt\"), delimiter=\" \")\n",
    "print(capacity.shape)\n",
    "print(\"min\", capacity.min())\n",
    "print(\"max\", capacity.max())\n",
    "print(\"sum\", capacity.sum())\n"
   ]
  },
  {
   "cell_type": "code",
   "execution_count": 6,
   "metadata": {},
   "outputs": [
    {
     "data": {
      "text/plain": [
       "array([ 9.,  9.,  9.,  9.,  9.,  9.,  9.,  9.,  9.,  9.,  9.,  9.,  9.,\n",
       "        9.,  9.,  9.,  9.,  9.,  9.,  9., 13., 13., 13., 13., 13., 13.,\n",
       "       13., 15., 15., 15., 15., 18., 18.])"
      ]
     },
     "execution_count": 6,
     "metadata": {},
     "output_type": "execute_result"
    }
   ],
   "source": [
    "transportation_cost"
   ]
  },
  {
   "cell_type": "code",
   "execution_count": 7,
   "metadata": {},
   "outputs": [
    {
     "data": {
      "text/plain": [
       "array([ 100.,  100.,  100.,  100.,  100.,  100.,  100.,  100.,  100.,\n",
       "        100.,  100.,  100.,  100.,  100.,  100.,  100.,  100.,  100.,\n",
       "        100.,  100.,  300.,  300.,  300.,  300.,  300.,  300.,  300.,\n",
       "        500.,  500.,  500.,  500., 1000., 1000.])"
      ]
     },
     "execution_count": 7,
     "metadata": {},
     "output_type": "execute_result"
    }
   ],
   "source": [
    "capacity"
   ]
  },
  {
   "cell_type": "code",
   "execution_count": 17,
   "metadata": {},
   "outputs": [],
   "source": [
    "Q = np.random.randint(low=0, \n",
    "              high=demand.max()+1, \n",
    "              size=(transportation_cost.shape[0],\n",
    "                   demand.shape[0]))\n",
    "Q = scipy.sparse.rand(transportation_cost.shape[0],\n",
    "                   demand.shape[0],\n",
    "                  0.5, \"bsr\")\n",
    "Q.shape\n",
    "Q.sum()\n",
    "\n",
    "# Q = Q.todense()\n",
    "Q = np.array(Q.todense() * (demand.max()+1)).round()\n"
   ]
  },
  {
   "cell_type": "code",
   "execution_count": 18,
   "metadata": {},
   "outputs": [],
   "source": [
    "def select(matrize, mask):\n",
    "    b = np.expand_dims(mask,-1)\n",
    "    c = b.T * b\n",
    "    return matrize * c\n",
    "\n",
    "def route_length_lkw(lkw_id, q, distance):\n",
    "    mask = q[lkw_id]>0\n",
    "    mask = np.append([False,], mask)\n",
    "    mask_distance = select(distance, mask)\n",
    "    sumed_ranges = mask_distance.sum()\n",
    "    return sumed_ranges\n",
    "\n",
    "def fitness(Q):\n",
    "    summed = 0\n",
    "    for lkw_id in range(capacity.shape[0]):\n",
    "        summed += route_length_lkw(lkw_id, Q, distance)\n",
    "    return summed"
   ]
  },
  {
   "cell_type": "code",
   "execution_count": 19,
   "metadata": {},
   "outputs": [
    {
     "name": "stdout",
     "output_type": "stream",
     "text": [
      "16683457.0\n"
     ]
    }
   ],
   "source": [
    "a = fitness(Q)\n",
    "print(a)"
   ]
  },
  {
   "cell_type": "code",
   "execution_count": null,
   "metadata": {},
   "outputs": [],
   "source": []
  },
  {
   "cell_type": "code",
   "execution_count": null,
   "metadata": {},
   "outputs": [],
   "source": []
  },
  {
   "cell_type": "code",
   "execution_count": null,
   "metadata": {},
   "outputs": [],
   "source": []
  },
  {
   "cell_type": "code",
   "execution_count": null,
   "metadata": {},
   "outputs": [],
   "source": []
  }
 ],
 "metadata": {
  "kernelspec": {
   "display_name": "Python 3",
   "language": "python",
   "name": "python3"
  },
  "language_info": {
   "codemirror_mode": {
    "name": "ipython",
    "version": 3
   },
   "file_extension": ".py",
   "mimetype": "text/x-python",
   "name": "python",
   "nbconvert_exporter": "python",
   "pygments_lexer": "ipython3",
   "version": "3.6.4"
  }
 },
 "nbformat": 4,
 "nbformat_minor": 2
}
