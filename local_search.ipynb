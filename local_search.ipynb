{
 "cells": [
  {
   "cell_type": "code",
   "execution_count": 129,
   "metadata": {
    "collapsed": true
   },
   "outputs": [],
   "source": [
    "import random\n",
    "import logging\n",
    "import pandas as pd\n",
    "from collections import namedtuple\n",
    "from copy import deepcopy\n",
    "from functools import reduce\n",
    "import matplotlib\n",
    "matplotlib.style.use('ggplot')\n",
    "from matplotlib import pyplot as plt\n",
    "%matplotlib inline\n",
    "\n",
    "random.seed(0)\n",
    "logging.basicConfig(filename='local_search.log', filemode='w', level=logging.DEBUG)\n"
   ]
  },
  {
   "cell_type": "markdown",
   "metadata": {},
   "source": [
    "## Abstract classes"
   ]
  },
  {
   "cell_type": "code",
   "execution_count": 12,
   "metadata": {},
   "outputs": [],
   "source": [
    "class Optimizer():\n",
    "        \n",
    "    def optimize(self):\n",
    "        raise NotImplementedError"
   ]
  },
  {
   "cell_type": "code",
   "execution_count": 13,
   "metadata": {
    "collapsed": true
   },
   "outputs": [],
   "source": [
    "class Candidate:\n",
    "    \n",
    "    def __eq__(self, other):\n",
    "        raise NotImplementedError\n",
    "    \n",
    "    @classmethod\n",
    "    def generate_random_candidate(cls):\n",
    "        raise NotImplementedError\n",
    "    \n",
    "    @property\n",
    "    def neighbors(self):\n",
    "        raise NotImplementedError\n",
    "    \n",
    "    @property\n",
    "    def cost(self):\n",
    "        raise NotImplementedError"
   ]
  },
  {
   "cell_type": "code",
   "execution_count": 14,
   "metadata": {
    "collapsed": true
   },
   "outputs": [],
   "source": [
    "class HeuristicSearch():\n",
    "    \n",
    "    def search(candidate):\n",
    "        raise NotImplementedError\n",
    "    "
   ]
  },
  {
   "cell_type": "markdown",
   "metadata": {},
   "source": [
    "## The local search algorithm"
   ]
  },
  {
   "cell_type": "code",
   "execution_count": 21,
   "metadata": {},
   "outputs": [],
   "source": [
    "class LocalSearch(Optimizer):\n",
    "    \n",
    "    def __init__(self, heuristic_search):\n",
    "        self.heuristic_search = heuristic_search\n",
    "        \n",
    "    def optimize(self, initial_candidate):\n",
    "        logging.info(f'Optimization stated with candidate: {initial_candidate}')\n",
    "        previous_candidate = None\n",
    "        current_candidate = initial_candidate\n",
    "        n_iterations = 0\n",
    "        while(previous_candidate != current_candidate):\n",
    "            n_iterations += 1\n",
    "            logging.info(f'Iteration number {n_iterations}')\n",
    "            logging.info(f'Previous candidate: {previous_candidate}')\n",
    "            previous_candidate = current_candidate\n",
    "            current_candidate = self.heuristic_search.search(previous_candidate)\n",
    "            logging.info(f'Next candidate: {current_candidate}')\n",
    "            \n",
    "        return n_iterations, current_candidate"
   ]
  },
  {
   "cell_type": "markdown",
   "metadata": {},
   "source": [
    "## The search heuristics"
   ]
  },
  {
   "cell_type": "code",
   "execution_count": 79,
   "metadata": {},
   "outputs": [],
   "source": [
    "class HillClimber(HeuristicSearch):\n",
    "    \n",
    "    def __repr__(self):\n",
    "        return '<HillClimbing>'\n",
    "    \n",
    "    def search(self, candidate):\n",
    "        \n",
    "        best_candidate = candidate\n",
    "        for neighbor in candidate.neighbors:\n",
    "            logging.debug(f'Checking neighbor {neighbor}')\n",
    "            if neighbor.cost < best_candidate.cost:\n",
    "                best_candidate = neighbor\n",
    "        return best_candidate\n",
    "        \n",
    "    "
   ]
  },
  {
   "cell_type": "code",
   "execution_count": 80,
   "metadata": {
    "collapsed": true
   },
   "outputs": [],
   "source": [
    "class FirstChoiceHillClimber(HeuristicSearch):\n",
    "    \n",
    "    def __repr__(self):\n",
    "        return '<FirstChoiceHillClimbing>'\n",
    "    \n",
    "    def search(self, candidate):\n",
    "        \n",
    "        for neighbor in candidate.neighbors:\n",
    "            logging.debug(f'Checking neighbor {neighbor}')\n",
    "            if neighbor.cost < candidate.cost:\n",
    "                return neighbor\n",
    "        return candidate\n",
    "        \n",
    "    "
   ]
  },
  {
   "cell_type": "markdown",
   "metadata": {},
   "source": [
    "## Candidates for the knapsack problem"
   ]
  },
  {
   "cell_type": "code",
   "execution_count": 88,
   "metadata": {},
   "outputs": [],
   "source": [
    "\n",
    "\n",
    "Item = namedtuple('Item', ('weight', 'value'))\n",
    "KnapSackProblem = namedtuple('KnapSackProblem', ('items', 'weight_limit'))\n",
    "\n",
    "class KnapSackCandidate(Candidate):\n",
    "    \n",
    "    def __init__(self, knapsack_problem, items):\n",
    "        self.problem = knapsack_problem\n",
    "        self.items = items\n",
    "        \n",
    "    def __eq__(self, other):\n",
    "        return type(self) == type(other) and self.items == other.items\n",
    "        \n",
    "    def __repr__(self):\n",
    "        return f'<KnapSackCandidate with items {self.items}>'\n",
    "    \n",
    "    @classmethod\n",
    "    def generate_random_candidate(cls, knapsack_problem):\n",
    "        knapsack_weight = 0\n",
    "        items = deepcopy(knapsack_problem.items)\n",
    "        candidate_items = set()\n",
    "        while(True):\n",
    "            choice = random.sample(items, 1)[0]\n",
    "            if not ((KnapSackCandidate.weight_sum(candidate_items) + choice.weight) \n",
    "                    > knapsack_problem.weight_limit):\n",
    "                candidate_items.add(choice)\n",
    "                items.remove(choice)\n",
    "            else:\n",
    "                return cls(knapsack_problem, items) \n",
    "            \n",
    "    \n",
    "    \n",
    "    @staticmethod        \n",
    "    def weight_sum(items):\n",
    "        weight = 0\n",
    "        for item in items:\n",
    "            weight += item.weight\n",
    "        return weight\n",
    "    \n",
    "    @property\n",
    "    def cost(self):\n",
    "        value = 0\n",
    "        for item in self.items:\n",
    "            value -= item.value\n",
    "        return value \n",
    "    \n",
    "class KnapSackCandidateSmall(KnapSackCandidate):\n",
    "    \n",
    "    @property\n",
    "    def neighbors(self):\n",
    "        neighbors = []\n",
    "        # Try to exchange one item from the current candidate with all\n",
    "        # other items from the knapsack problem.\n",
    "        exchange_item = random.sample(self.items, 1)[0]\n",
    "        for other_item in self.problem.items:\n",
    "            if other_item not in self.items:\n",
    "                new_items = deepcopy(self.items)\n",
    "                new_items.remove(exchange_item)\n",
    "                new_items.add(other_item)\n",
    "                if KnapSackCandidateSmall.weight_sum(new_items) < self.problem.weight_limit:\n",
    "                    neighbors.append(KnapSackCandidateSmall(self.problem, items=new_items))\n",
    "        return neighbors\n",
    "    \n",
    "class KnapSackCandidateBig(KnapSackCandidate):\n",
    "    \n",
    "    @property\n",
    "    def neighbors(self):\n",
    "        neighbors = []\n",
    "        # Try to exchange one item from the current candidate with all\n",
    "        # other items from the knapsack problem or just try to add the other item\n",
    "        exchange_item = random.sample(self.items, 1)[0]\n",
    "        for other_item in self.problem.items:\n",
    "            if other_item not in self.items:\n",
    "                new_items = deepcopy(self.items)\n",
    "                new_items.add(other_item)\n",
    "                if KnapSackCandidateSmall.weight_sum(new_items) < self.problem.weight_limit:\n",
    "                    neighbors.append(KnapSackCandidateSmall(self.problem, items=new_items))\n",
    "                else:\n",
    "                    new_items.remove(exchange_item)\n",
    "                    if KnapSackCandidateSmall.weight_sum(new_items) < self.problem.weight_limit:\n",
    "                        neighbors.append(KnapSackCandidateSmall(self.problem, items=new_items))\n",
    "                \n",
    "        return neighbors\n",
    "        \n",
    "    "
   ]
  },
  {
   "cell_type": "markdown",
   "metadata": {},
   "source": [
    "Try it"
   ]
  },
  {
   "cell_type": "code",
   "execution_count": 177,
   "metadata": {},
   "outputs": [
    {
     "data": {
      "text/plain": [
       "(2,\n",
       " <KnapSackCandidate with items {Item(weight=1, value=5000), Item(weight=200, value=5000)}>)"
      ]
     },
     "execution_count": 177,
     "metadata": {},
     "output_type": "execute_result"
    }
   ],
   "source": [
    "example_problem = KnapSackProblem(items={Item(5, 10),\n",
    "                                         Item(10, 1_000),\n",
    "                                         Item(300, 4_000),\n",
    "                                         Item(1, 5_000),\n",
    "                                         Item(200, 5_000),\n",
    "                                         Item(100, 2_000)}, \n",
    "                                  weight_limit=400)\n",
    "\n",
    "local_search = LocalSearch(FirstChoiceHillClimber())\n",
    "local_search.optimize(KnapSackCandidateSmall.generate_random_candidate(example_problem))"
   ]
  },
  {
   "cell_type": "markdown",
   "metadata": {},
   "source": [
    "### Convenience class for systematically conducting experiments"
   ]
  },
  {
   "cell_type": "code",
   "execution_count": 125,
   "metadata": {
    "collapsed": true
   },
   "outputs": [],
   "source": [
    "class Experiment:\n",
    "    def __init__(self, problems, candidate_classes, search_heuristics, runs=10):\n",
    "        self.problems = problems\n",
    "        self.candidate_classes = candidate_classes\n",
    "        self.search_heuristics = search_heuristics\n",
    "        self.runs = runs\n",
    "        \n",
    "    def conduct(self):\n",
    "        results = pd.DataFrame(columns=['problem', 'neighborhood', 'heuristic', 'cost', 'iterations', 'run'])\n",
    "        for p_idx, problem in enumerate(self.problems):\n",
    "            for candidate_cls in self.candidate_classes:\n",
    "                for heuristic in self.search_heuristics:\n",
    "                    for run in range(self.runs):\n",
    "                        local_search = LocalSearch(heuristic)\n",
    "                        n_iter, best_candidate = local_search.optimize(\n",
    "                            candidate_cls.generate_random_candidate(problem)\n",
    "                        )\n",
    "                        # Log results in dataframe.\n",
    "                        results.loc[results.shape[0]] = [p_idx, \n",
    "                                                         str(candidate_cls), \n",
    "                                                         str(heuristic), \n",
    "                                                         float(best_candidate.cost),\n",
    "                                                         int(n_iter),\n",
    "                                                         run]\n",
    "        return results\n",
    "\n",
    "        "
   ]
  },
  {
   "cell_type": "markdown",
   "metadata": {},
   "source": [
    "Let's create some problems to solve"
   ]
  },
  {
   "cell_type": "code",
   "execution_count": 126,
   "metadata": {
    "collapsed": true
   },
   "outputs": [],
   "source": [
    "example_problem = KnapSackProblem(items={Item(5, 10),\n",
    "                                         Item(10, 1_000),\n",
    "                                         Item(300, 4_000),\n",
    "                                         Item(1, 5_000),\n",
    "                                         Item(200, 5_000),\n",
    "                                         Item(100, 2_000)}, \n",
    "                                  weight_limit=400)\n",
    "\n",
    "medium_problem = KnapSackProblem(items={Item(5, 10),\n",
    "                                     Item(10, 1_000),\n",
    "                                     Item(300, 4_000),\n",
    "                                        Item(1, 5_000),\n",
    "                                        Item(1, 1_000),\n",
    "                                     Item(200, 5_000),\n",
    "                                     Item(100, 2_000),\n",
    "                                     Item(200, 2_000), \n",
    "                                     Item(200, 3_000), \n",
    "                                     Item(500, 3_000),}, \n",
    "                                weight_limit=800)\n",
    "\n",
    "large_problem = KnapSackProblem(items={Item(5, 10),\n",
    "                                     Item(10, 1_000),\n",
    "                                     Item(300, 4_000),\n",
    "                                        Item(1, 5_000),\n",
    "                                        Item(1, 1_000),\n",
    "                                     Item(200, 5_000),\n",
    "                                     Item(100, 2_000),\n",
    "                                     Item(200, 2_000), \n",
    "                                     Item(200, 3_000), \n",
    "                                     Item(500, 3_000), \n",
    "                                     Item(500, 20), \n",
    "                                     Item(500, 40), \n",
    "                                     Item(5000, 20_000), \n",
    "                                     Item(50, 4_000), \n",
    "                                     Item(750, 750), \n",
    "                                     Item(10, 1_000), \n",
    "                                     Item(50, 4_000), \n",
    "                                     Item(50, 5_000), \n",
    "                                     Item(50, 6_000), \n",
    "                                     Item(300, 4_000), \n",
    "                                     Item(50, 50), \n",
    "                                     Item(50, 4_000), \n",
    "                                     Item(500, 2_000), \n",
    "                                     Item(50, 600),}, # 20 items.\n",
    "                                weight_limit=5000)"
   ]
  },
  {
   "cell_type": "code",
   "execution_count": 162,
   "metadata": {
    "collapsed": true
   },
   "outputs": [
    {
     "ename": "ValueError",
     "evalue": "Columns must be same length as key",
     "output_type": "error",
     "traceback": [
      "\u001b[0;31m---------------------------------------------------------------------------\u001b[0m",
      "\u001b[0;31mValueError\u001b[0m                                Traceback (most recent call last)",
      "\u001b[0;32m<ipython-input-162-11a8ebca7e03>\u001b[0m in \u001b[0;36m<module>\u001b[0;34m()\u001b[0m\n\u001b[1;32m      6\u001b[0m )\n\u001b[1;32m      7\u001b[0m \u001b[0mresults\u001b[0m \u001b[0;34m=\u001b[0m \u001b[0mexperiment\u001b[0m\u001b[0;34m.\u001b[0m\u001b[0mconduct\u001b[0m\u001b[0;34m(\u001b[0m\u001b[0;34m)\u001b[0m\u001b[0;34m\u001b[0m\u001b[0m\n\u001b[0;32m----> 8\u001b[0;31m \u001b[0mresults\u001b[0m\u001b[0;34m[\u001b[0m\u001b[0;34m[\u001b[0m\u001b[0;34m'cost'\u001b[0m\u001b[0;34m,\u001b[0m \u001b[0;34m'iterations'\u001b[0m\u001b[0;34m,\u001b[0m \u001b[0;34m'run'\u001b[0m\u001b[0;34m]\u001b[0m\u001b[0;34m]\u001b[0m \u001b[0;34m=\u001b[0m \u001b[0mresults\u001b[0m\u001b[0;34m[\u001b[0m\u001b[0;34m[\u001b[0m\u001b[0;34m'cost'\u001b[0m\u001b[0;34m,\u001b[0m \u001b[0;34m'iterations'\u001b[0m\u001b[0;34m]\u001b[0m\u001b[0;34m]\u001b[0m\u001b[0;34m.\u001b[0m\u001b[0mapply\u001b[0m\u001b[0;34m(\u001b[0m\u001b[0mpd\u001b[0m\u001b[0;34m.\u001b[0m\u001b[0mto_numeric\u001b[0m\u001b[0;34m)\u001b[0m\u001b[0;34m\u001b[0m\u001b[0m\n\u001b[0m\u001b[1;32m      9\u001b[0m \u001b[0mresults\u001b[0m\u001b[0;34m\u001b[0m\u001b[0m\n",
      "\u001b[0;32m~/.anaconda3/envs/playground/lib/python3.6/site-packages/pandas/core/frame.py\u001b[0m in \u001b[0;36m__setitem__\u001b[0;34m(self, key, value)\u001b[0m\n\u001b[1;32m   2324\u001b[0m \u001b[0;34m\u001b[0m\u001b[0m\n\u001b[1;32m   2325\u001b[0m         \u001b[0;32mif\u001b[0m \u001b[0misinstance\u001b[0m\u001b[0;34m(\u001b[0m\u001b[0mkey\u001b[0m\u001b[0;34m,\u001b[0m \u001b[0;34m(\u001b[0m\u001b[0mSeries\u001b[0m\u001b[0;34m,\u001b[0m \u001b[0mnp\u001b[0m\u001b[0;34m.\u001b[0m\u001b[0mndarray\u001b[0m\u001b[0;34m,\u001b[0m \u001b[0mlist\u001b[0m\u001b[0;34m,\u001b[0m \u001b[0mIndex\u001b[0m\u001b[0;34m)\u001b[0m\u001b[0;34m)\u001b[0m\u001b[0;34m:\u001b[0m\u001b[0;34m\u001b[0m\u001b[0m\n\u001b[0;32m-> 2326\u001b[0;31m             \u001b[0mself\u001b[0m\u001b[0;34m.\u001b[0m\u001b[0m_setitem_array\u001b[0m\u001b[0;34m(\u001b[0m\u001b[0mkey\u001b[0m\u001b[0;34m,\u001b[0m \u001b[0mvalue\u001b[0m\u001b[0;34m)\u001b[0m\u001b[0;34m\u001b[0m\u001b[0m\n\u001b[0m\u001b[1;32m   2327\u001b[0m         \u001b[0;32melif\u001b[0m \u001b[0misinstance\u001b[0m\u001b[0;34m(\u001b[0m\u001b[0mkey\u001b[0m\u001b[0;34m,\u001b[0m \u001b[0mDataFrame\u001b[0m\u001b[0;34m)\u001b[0m\u001b[0;34m:\u001b[0m\u001b[0;34m\u001b[0m\u001b[0m\n\u001b[1;32m   2328\u001b[0m             \u001b[0mself\u001b[0m\u001b[0;34m.\u001b[0m\u001b[0m_setitem_frame\u001b[0m\u001b[0;34m(\u001b[0m\u001b[0mkey\u001b[0m\u001b[0;34m,\u001b[0m \u001b[0mvalue\u001b[0m\u001b[0;34m)\u001b[0m\u001b[0;34m\u001b[0m\u001b[0m\n",
      "\u001b[0;32m~/.anaconda3/envs/playground/lib/python3.6/site-packages/pandas/core/frame.py\u001b[0m in \u001b[0;36m_setitem_array\u001b[0;34m(self, key, value)\u001b[0m\n\u001b[1;32m   2348\u001b[0m             \u001b[0;32mif\u001b[0m \u001b[0misinstance\u001b[0m\u001b[0;34m(\u001b[0m\u001b[0mvalue\u001b[0m\u001b[0;34m,\u001b[0m \u001b[0mDataFrame\u001b[0m\u001b[0;34m)\u001b[0m\u001b[0;34m:\u001b[0m\u001b[0;34m\u001b[0m\u001b[0m\n\u001b[1;32m   2349\u001b[0m                 \u001b[0;32mif\u001b[0m \u001b[0mlen\u001b[0m\u001b[0;34m(\u001b[0m\u001b[0mvalue\u001b[0m\u001b[0;34m.\u001b[0m\u001b[0mcolumns\u001b[0m\u001b[0;34m)\u001b[0m \u001b[0;34m!=\u001b[0m \u001b[0mlen\u001b[0m\u001b[0;34m(\u001b[0m\u001b[0mkey\u001b[0m\u001b[0;34m)\u001b[0m\u001b[0;34m:\u001b[0m\u001b[0;34m\u001b[0m\u001b[0m\n\u001b[0;32m-> 2350\u001b[0;31m                     \u001b[0;32mraise\u001b[0m \u001b[0mValueError\u001b[0m\u001b[0;34m(\u001b[0m\u001b[0;34m'Columns must be same length as key'\u001b[0m\u001b[0;34m)\u001b[0m\u001b[0;34m\u001b[0m\u001b[0m\n\u001b[0m\u001b[1;32m   2351\u001b[0m                 \u001b[0;32mfor\u001b[0m \u001b[0mk1\u001b[0m\u001b[0;34m,\u001b[0m \u001b[0mk2\u001b[0m \u001b[0;32min\u001b[0m \u001b[0mzip\u001b[0m\u001b[0;34m(\u001b[0m\u001b[0mkey\u001b[0m\u001b[0;34m,\u001b[0m \u001b[0mvalue\u001b[0m\u001b[0;34m.\u001b[0m\u001b[0mcolumns\u001b[0m\u001b[0;34m)\u001b[0m\u001b[0;34m:\u001b[0m\u001b[0;34m\u001b[0m\u001b[0m\n\u001b[1;32m   2352\u001b[0m                     \u001b[0mself\u001b[0m\u001b[0;34m[\u001b[0m\u001b[0mk1\u001b[0m\u001b[0;34m]\u001b[0m \u001b[0;34m=\u001b[0m \u001b[0mvalue\u001b[0m\u001b[0;34m[\u001b[0m\u001b[0mk2\u001b[0m\u001b[0;34m]\u001b[0m\u001b[0;34m\u001b[0m\u001b[0m\n",
      "\u001b[0;31mValueError\u001b[0m: Columns must be same length as key"
     ]
    }
   ],
   "source": [
    "experiment = Experiment(\n",
    "    (example_problem, medium_problem, large_problem),\n",
    "    (KnapSackCandidateSmall, KnapSackCandidateBig), \n",
    "    (HillClimber(), FirstChoiceHillClimber()),\n",
    "    runs=500\n",
    ")\n",
    "results = experiment.conduct()\n",
    "results[['cost', 'iterations']] = results[['cost', 'iterations']].apply(pd.to_numeric)\n",
    "results\n"
   ]
  },
  {
   "cell_type": "code",
   "execution_count": 149,
   "metadata": {},
   "outputs": [
    {
     "data": {
      "text/plain": [
       "<matplotlib.axes._subplots.AxesSubplot at 0x7f14e94c2f28>"
      ]
     },
     "execution_count": 149,
     "metadata": {},
     "output_type": "execute_result"
    },
    {
     "data": {
      "image/png": "[encoded data removed]",
      "text/plain": [
       "<matplotlib.figure.Figure at 0x7f14e94c2400>"
      ]
     },
     "metadata": {},
     "output_type": "display_data"
    }
   ],
   "source": [
    "results.boxplot(column='cost', by='problem')"
   ]
  },
  {
   "cell_type": "code",
   "execution_count": 171,
   "metadata": {},
   "outputs": [
    {
     "data": {
      "text/plain": [
       "array([<matplotlib.axes._subplots.AxesSubplot object at 0x7f14e7dc8940>,\n",
       "       <matplotlib.axes._subplots.AxesSubplot object at 0x7f14e7db4b38>], dtype=object)"
      ]
     },
     "execution_count": 171,
     "metadata": {},
     "output_type": "execute_result"
    },
    {
     "data": {
      "image/png": "[encoded data removed]",
      "text/plain": [
       "<matplotlib.figure.Figure at 0x7f14e826cb38>"
      ]
     },
     "metadata": {},
     "output_type": "display_data"
    }
   ],
   "source": [
    "results.boxplot(by='heuristic', rot=-45)"
   ]
  },
  {
   "cell_type": "code",
   "execution_count": 166,
   "metadata": {},
   "outputs": [
    {
     "data": {
      "text/plain": [
       "array([<matplotlib.axes._subplots.AxesSubplot object at 0x7f14e86c25c0>,\n",
       "       <matplotlib.axes._subplots.AxesSubplot object at 0x7f14e86a69b0>], dtype=object)"
      ]
     },
     "execution_count": 166,
     "metadata": {},
     "output_type": "execute_result"
    },
    {
     "data": {
      "image/png": "[encoded data removed]",
      "text/plain": [
       "<matplotlib.figure.Figure at 0x7f14e87dbc18>"
      ]
     },
     "metadata": {},
     "output_type": "display_data"
    }
   ],
   "source": [
    "results.boxplot(by='problem')"
   ]
  },
  {
   "cell_type": "code",
   "execution_count": 173,
   "metadata": {},
   "outputs": [
    {
     "data": {
      "text/plain": [
       "array([<matplotlib.axes._subplots.AxesSubplot object at 0x7f14e7ab10b8>,\n",
       "       <matplotlib.axes._subplots.AxesSubplot object at 0x7f14e7a250f0>], dtype=object)"
      ]
     },
     "execution_count": 173,
     "metadata": {},
     "output_type": "execute_result"
    },
    {
     "data": {
      "image/png": "[encoded data removed]",
      "text/plain": [
       "<matplotlib.figure.Figure at 0x7f14e7a8b4a8>"
      ]
     },
     "metadata": {},
     "output_type": "display_data"
    }
   ],
   "source": [
    "results.boxplot(by='neighborhood', vert=False)"
   ]
  },
  {
   "cell_type": "markdown",
   "metadata": {},
   "source": [
    "The search seems to get stuck in local minima rather quickly."
   ]
  },
  {
   "cell_type": "code",
   "execution_count": 178,
   "metadata": {},
   "outputs": [
    {
     "data": {
      "text/plain": [
       "7"
      ]
     },
     "execution_count": 178,
     "metadata": {},
     "output_type": "execute_result"
    }
   ],
   "source": [
    "results['iterations'].max()"
   ]
  }
 ],
 "metadata": {
  "kernelspec": {
   "display_name": "Python [conda env:playground]",
   "language": "python",
   "name": "conda-env-playground-py"
  },
  "language_info": {
   "codemirror_mode": {
    "name": "ipython",
    "version": 3
   },
   "file_extension": ".py",
   "mimetype": "text/x-python",
   "name": "python",
   "nbconvert_exporter": "python",
   "pygments_lexer": "ipython3",
   "version": "3.6.3"
  }
 },
 "nbformat": 4,
 "nbformat_minor": 2
}
